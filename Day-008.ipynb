{
 "cells": [
  {
   "cell_type": "code",
   "execution_count": 1,
   "id": "demographic-piano",
   "metadata": {},
   "outputs": [],
   "source": [
    "def greet(name):\n",
    "    print(f\"Hello {name}\")"
   ]
  },
  {
   "cell_type": "code",
   "execution_count": 3,
   "id": "average-richmond",
   "metadata": {},
   "outputs": [
    {
     "name": "stdout",
     "output_type": "stream",
     "text": [
      "Hello Charles\n"
     ]
    }
   ],
   "source": [
    "greet('Charles')"
   ]
  },
  {
   "cell_type": "code",
   "execution_count": 30,
   "id": "intelligent-portugal",
   "metadata": {},
   "outputs": [],
   "source": [
    "import math"
   ]
  },
  {
   "cell_type": "code",
   "execution_count": 42,
   "id": "extraordinary-scanning",
   "metadata": {},
   "outputs": [],
   "source": [
    "def paint_calc(height, width, cover):\n",
    "    cans = math.ceil((height * width)/cover)\n",
    "    print(f\"You will need {cans} of paint.\")"
   ]
  },
  {
   "cell_type": "code",
   "execution_count": 46,
   "id": "macro-visibility",
   "metadata": {},
   "outputs": [
    {
     "name": "stdout",
     "output_type": "stream",
     "text": [
      "Height of wall: 7\n",
      "Width of wall: 13\n"
     ]
    }
   ],
   "source": [
    "test_h = int(input(\"Height of wall: \"))\n",
    "test_w = int(input(\"Width of wall: \"))"
   ]
  },
  {
   "cell_type": "code",
   "execution_count": 47,
   "id": "front-representative",
   "metadata": {},
   "outputs": [],
   "source": [
    "coverage = 5"
   ]
  },
  {
   "cell_type": "code",
   "execution_count": 48,
   "id": "irish-transport",
   "metadata": {},
   "outputs": [
    {
     "name": "stdout",
     "output_type": "stream",
     "text": [
      "You will need 19 of paint.\n"
     ]
    }
   ],
   "source": [
    "paint_calc(height=test_h, width=test_w, cover=coverage)"
   ]
  },
  {
   "cell_type": "markdown",
   "id": "mental-samoa",
   "metadata": {},
   "source": [
    "## Prime number"
   ]
  },
  {
   "cell_type": "code",
   "execution_count": 55,
   "id": "lined-observer",
   "metadata": {},
   "outputs": [],
   "source": [
    "def prime_checker(number):\n",
    "    for i in range(2, number-1):\n",
    "        if number % i == 0:\n",
    "            print(f\"{number} is not prime number! \")\n",
    "        else:\n",
    "            print(f\"{number} is prime number! \")\n",
    "    "
   ]
  },
  {
   "cell_type": "code",
   "execution_count": 56,
   "id": "olive-blood",
   "metadata": {},
   "outputs": [
    {
     "name": "stdout",
     "output_type": "stream",
     "text": [
      "Check this number: 10\n",
      "10 is not prime number! \n",
      "10 is prime number! \n",
      "10 is prime number! \n",
      "10 is not prime number! \n",
      "10 is prime number! \n",
      "10 is prime number! \n",
      "10 is prime number! \n"
     ]
    }
   ],
   "source": [
    "n = int(input(\"Check this number: \"))\n",
    "prime_checker(n)"
   ]
  },
  {
   "cell_type": "code",
   "execution_count": 7,
   "id": "ranking-evans",
   "metadata": {},
   "outputs": [],
   "source": [
    "def is_prime(a):\n",
    "    if all(a % i for i in range(2, a)) == False:\n",
    "        print(\"It's not a prime number.\")\n",
    "    else: \n",
    "        print(\"It's a prime number.\")"
   ]
  },
  {
   "cell_type": "code",
   "execution_count": 11,
   "id": "front-pointer",
   "metadata": {},
   "outputs": [
    {
     "name": "stdout",
     "output_type": "stream",
     "text": [
      "It's a prime number.\n"
     ]
    }
   ],
   "source": [
    "is_prime(97)"
   ]
  },
  {
   "cell_type": "markdown",
   "id": "short-probe",
   "metadata": {},
   "source": [
    "## Caesar-cipher"
   ]
  },
  {
   "cell_type": "code",
   "execution_count": 148,
   "id": "editorial-constraint",
   "metadata": {},
   "outputs": [],
   "source": [
    "alphabet = ['a', 'b', 'c', 'd', 'e', 'f', 'g', 'h', 'i', 'j', 'k', 'l', 'm', 'n',\\\n",
    "            'o', 'p', 'q', 'r', 's', 't', 'u', 'v', 'w', 'x', 'y', 'z']"
   ]
  },
  {
   "cell_type": "code",
   "execution_count": 179,
   "id": "express-tribe",
   "metadata": {},
   "outputs": [],
   "source": [
    "def encrypt(text, shift):\n",
    "    encrypt_text = ''\n",
    "    for i in text:\n",
    "        \n",
    "        if i in alphabet:\n",
    "            text_shift = alphabet.index(i) + shift\n",
    "            text_shift %= 26\n",
    "            encrypt_text += alphabet[text_shift]\n",
    "            \n",
    "        else:\n",
    "            encrypt_text += i\n",
    "        \n",
    "    return encrypt_text\n",
    "\n",
    "def decrypt(text, shift):\n",
    "    decrypt_text = ''\n",
    "    for i in text:\n",
    "        \n",
    "        if i in alphabet:\n",
    "            text_shift = alphabet.index(i) - shift\n",
    "            text_shift %= 26\n",
    "            decrypt_text += alphabet[text_shift]\n",
    "            \n",
    "        else:\n",
    "            decrypt_text += i\n",
    "        \n",
    "    return decrypt_text"
   ]
  },
  {
   "cell_type": "code",
   "execution_count": 232,
   "id": "featured-bosnia",
   "metadata": {},
   "outputs": [],
   "source": [
    "def ceasar(start_text, shift_amount, cipher_direction):\n",
    "    end_text = \"\"\n",
    "    if cipher_direction == \"decode\":\n",
    "        shift_amount *= -1\n",
    "    for letter in start_text:\n",
    "        if letter in alphabet:\n",
    "            position = alphabet.index(letter)  \n",
    "            new_position = position + shift_amount\n",
    "            new_position %= 26\n",
    "            end_text += alphabet[new_position]\n",
    "        else:\n",
    "            end_text += letter\n",
    "            \n",
    "    print(f\"The {cipher_direction}d text is {end_text}\")"
   ]
  },
  {
   "cell_type": "code",
   "execution_count": 233,
   "id": "intense-pharmaceutical",
   "metadata": {
    "scrolled": false
   },
   "outputs": [
    {
     "name": "stdout",
     "output_type": "stream",
     "text": [
      "Type 'encode' to encrypt, type 'decode' to decrypt:\n",
      "encode\n",
      "Type your message:\n",
      "hello world\n",
      "Type the shift number:\n",
      "66\n",
      "The encoded text is vszzc kcfzr\n",
      "Yes or No:\n",
      "Yes\n",
      "Type 'encode' to encrypt, type 'decode' to decrypt:\n",
      "encode\n",
      "Type your message:\n",
      "Hello World lzofij23490i1lj;o\n",
      "Type the shift number:\n",
      "2605\n",
      "The encoded text is mjqqt btwqi qetkno23490n1qo;t\n",
      "Yes or No:\n",
      "No\n"
     ]
    }
   ],
   "source": [
    "customer_buttom = \"Yes\"\n",
    "while customer_buttom == \"Yes\":\n",
    "    direction = input(\"Type 'encode' to encrypt, type 'decode' to decrypt:\\n\")\n",
    "    text = input(\"Type your message:\\n\").lower()\n",
    "    shift = int(input(\"Type the shift number:\\n\"))\n",
    "    ceasar(start_text=text, shift_amount=shift, cipher_direction=direction)\n",
    "    customer_buttom = input(\"Yes or No:\\n\")"
   ]
  }
 ],
 "metadata": {
  "kernelspec": {
   "display_name": "Python 3",
   "language": "python",
   "name": "python3"
  },
  "language_info": {
   "codemirror_mode": {
    "name": "ipython",
    "version": 3
   },
   "file_extension": ".py",
   "mimetype": "text/x-python",
   "name": "python",
   "nbconvert_exporter": "python",
   "pygments_lexer": "ipython3",
   "version": "3.8.8"
  }
 },
 "nbformat": 4,
 "nbformat_minor": 5
}
