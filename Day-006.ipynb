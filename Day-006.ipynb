{
 "cells": [
  {
   "cell_type": "code",
   "execution_count": 9,
   "id": "integrated-collar",
   "metadata": {},
   "outputs": [],
   "source": [
    "def abc():\n",
    "    return \"hello\""
   ]
  },
  {
   "cell_type": "code",
   "execution_count": 21,
   "id": "infinite-singles",
   "metadata": {},
   "outputs": [],
   "source": [
    "X = type('X', (), dict(a=1))"
   ]
  },
  {
   "cell_type": "code",
   "execution_count": 22,
   "id": "worthy-operations",
   "metadata": {},
   "outputs": [],
   "source": [
    "a = X()"
   ]
  },
  {
   "cell_type": "code",
   "execution_count": 23,
   "id": "palestinian-browse",
   "metadata": {},
   "outputs": [
    {
     "data": {
      "text/plain": [
       "1"
      ]
     },
     "execution_count": 23,
     "metadata": {},
     "output_type": "execute_result"
    }
   ],
   "source": [
    "a.a"
   ]
  },
  {
   "cell_type": "code",
   "execution_count": null,
   "id": "external-disco",
   "metadata": {},
   "outputs": [],
   "source": []
  }
 ],
 "metadata": {
  "kernelspec": {
   "display_name": "Python 3",
   "language": "python",
   "name": "python3"
  },
  "language_info": {
   "codemirror_mode": {
    "name": "ipython",
    "version": 3
   },
   "file_extension": ".py",
   "mimetype": "text/x-python",
   "name": "python",
   "nbconvert_exporter": "python",
   "pygments_lexer": "ipython3",
   "version": "3.8.8"
  }
 },
 "nbformat": 4,
 "nbformat_minor": 5
}
