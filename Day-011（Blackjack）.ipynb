{
 "cells": [
  {
   "cell_type": "code",
   "execution_count": 206,
   "id": "surgical-break",
   "metadata": {},
   "outputs": [],
   "source": [
    "import random"
   ]
  },
  {
   "cell_type": "code",
   "execution_count": 261,
   "id": "brilliant-bradford",
   "metadata": {},
   "outputs": [],
   "source": [
    "def shuffle_poker():\n",
    "    suits = [\"♡\", \"♠\", \"♢\", \"♣\"]\n",
    "    cards = ['A', '2', '3', '4', '5', '6', '7', '8', '9', '10', 'J', 'Q', 'K']\n",
    "    poker = []\n",
    "    for suit in suits:\n",
    "        for card in cards:\n",
    "            poker.append(suit + \" \"+ card)\n",
    "    random.shuffle(poker)\n",
    "    return poker"
   ]
  },
  {
   "cell_type": "code",
   "execution_count": 262,
   "id": "formed-execution",
   "metadata": {},
   "outputs": [],
   "source": [
    "def Deal(poker):\n",
    "    for item in poker:\n",
    "        yield item"
   ]
  },
  {
   "cell_type": "code",
   "execution_count": 263,
   "id": "medical-sustainability",
   "metadata": {},
   "outputs": [],
   "source": [
    "def cal(card):\n",
    "    total = 0\n",
    "    for i in range(len(card)):\n",
    "        if card[i].split(\" \", 1)[1] == 'J' or card[i].split(\" \", 1)[1] == 'Q' or card[i].split(\" \", 1)[1] == 'K':\n",
    "            total += 10\n",
    "\n",
    "        elif card[i].split(\" \", 1)[1] == 'A':\n",
    "            total += 11\n",
    "             \n",
    "        else:\n",
    "            total += int(card[i].split(\" \", 1)[1])\n",
    "            \n",
    "#     for i in range(len(card)):      \n",
    "#         if \"A\" in card[i].split(\" \", 1)[1] and total > 21:\n",
    "#             total -= 10\n",
    "        \n",
    "    return total"
   ]
  },
  {
   "cell_type": "code",
   "execution_count": 264,
   "id": "unsigned-revelation",
   "metadata": {},
   "outputs": [],
   "source": [
    "should_continue = True\n",
    "poker = shuffle_poker()\n",
    "it = Deal(poker)"
   ]
  },
  {
   "cell_type": "code",
   "execution_count": 265,
   "id": "polish-click",
   "metadata": {},
   "outputs": [],
   "source": [
    "user_card = [next(it), next(it)]\n",
    "computer_card = [next(it), next(it)]"
   ]
  },
  {
   "cell_type": "code",
   "execution_count": 266,
   "id": "independent-liechtenstein",
   "metadata": {},
   "outputs": [
    {
     "name": "stdout",
     "output_type": "stream",
     "text": [
      "Your cards : ['♠ 5', '♡ 9']\n",
      "Your cards : ['♡ Q', '♠ 6']\n"
     ]
    },
    {
     "ename": "KeyboardInterrupt",
     "evalue": "Interrupted by user",
     "output_type": "error",
     "traceback": [
      "\u001b[0;31m---------------------------------------------------------------------------\u001b[0m",
      "\u001b[0;31mKeyboardInterrupt\u001b[0m                         Traceback (most recent call last)",
      "\u001b[0;32m<ipython-input-266-8bcaaa54b21c>\u001b[0m in \u001b[0;36m<module>\u001b[0;34m\u001b[0m\n\u001b[1;32m      4\u001b[0m     \u001b[0muser_total\u001b[0m \u001b[0;34m=\u001b[0m \u001b[0mcal\u001b[0m\u001b[0;34m(\u001b[0m\u001b[0muser_card\u001b[0m\u001b[0;34m)\u001b[0m\u001b[0;34m\u001b[0m\u001b[0;34m\u001b[0m\u001b[0m\n\u001b[1;32m      5\u001b[0m     \u001b[0mcomputer_total\u001b[0m \u001b[0;34m=\u001b[0m \u001b[0mcal\u001b[0m\u001b[0;34m(\u001b[0m\u001b[0mcomputer_card\u001b[0m\u001b[0;34m)\u001b[0m\u001b[0;34m\u001b[0m\u001b[0;34m\u001b[0m\u001b[0m\n\u001b[0;32m----> 6\u001b[0;31m     \u001b[0mdecision\u001b[0m \u001b[0;34m=\u001b[0m \u001b[0minput\u001b[0m\u001b[0;34m(\u001b[0m\u001b[0;34m\"Hits or Stand: \"\u001b[0m\u001b[0;34m)\u001b[0m\u001b[0;34m\u001b[0m\u001b[0;34m\u001b[0m\u001b[0m\n\u001b[0m\u001b[1;32m      7\u001b[0m     \u001b[0;32mif\u001b[0m \u001b[0mdecision\u001b[0m\u001b[0;34m.\u001b[0m\u001b[0mlower\u001b[0m\u001b[0;34m(\u001b[0m\u001b[0;34m)\u001b[0m \u001b[0;34m==\u001b[0m \u001b[0;34m\"hits\"\u001b[0m\u001b[0;34m:\u001b[0m\u001b[0;34m\u001b[0m\u001b[0;34m\u001b[0m\u001b[0m\n\u001b[1;32m      8\u001b[0m         \u001b[0mcard\u001b[0m\u001b[0;34m.\u001b[0m\u001b[0mappend\u001b[0m\u001b[0;34m(\u001b[0m\u001b[0mnext\u001b[0m\u001b[0;34m(\u001b[0m\u001b[0mit\u001b[0m\u001b[0;34m)\u001b[0m\u001b[0;34m)\u001b[0m\u001b[0;34m\u001b[0m\u001b[0;34m\u001b[0m\u001b[0m\n",
      "\u001b[0;32m/opt/conda/lib/python3.8/site-packages/ipykernel/kernelbase.py\u001b[0m in \u001b[0;36mraw_input\u001b[0;34m(self, prompt)\u001b[0m\n\u001b[1;32m    846\u001b[0m                 \u001b[0;34m\"raw_input was called, but this frontend does not support input requests.\"\u001b[0m\u001b[0;34m\u001b[0m\u001b[0;34m\u001b[0m\u001b[0m\n\u001b[1;32m    847\u001b[0m             )\n\u001b[0;32m--> 848\u001b[0;31m         return self._input_request(str(prompt),\n\u001b[0m\u001b[1;32m    849\u001b[0m             \u001b[0mself\u001b[0m\u001b[0;34m.\u001b[0m\u001b[0m_parent_ident\u001b[0m\u001b[0;34m,\u001b[0m\u001b[0;34m\u001b[0m\u001b[0;34m\u001b[0m\u001b[0m\n\u001b[1;32m    850\u001b[0m             \u001b[0mself\u001b[0m\u001b[0;34m.\u001b[0m\u001b[0m_parent_header\u001b[0m\u001b[0;34m,\u001b[0m\u001b[0;34m\u001b[0m\u001b[0;34m\u001b[0m\u001b[0m\n",
      "\u001b[0;32m/opt/conda/lib/python3.8/site-packages/ipykernel/kernelbase.py\u001b[0m in \u001b[0;36m_input_request\u001b[0;34m(self, prompt, ident, parent, password)\u001b[0m\n\u001b[1;32m    890\u001b[0m             \u001b[0;32mexcept\u001b[0m \u001b[0mKeyboardInterrupt\u001b[0m\u001b[0;34m:\u001b[0m\u001b[0;34m\u001b[0m\u001b[0;34m\u001b[0m\u001b[0m\n\u001b[1;32m    891\u001b[0m                 \u001b[0;31m# re-raise KeyboardInterrupt, to truncate traceback\u001b[0m\u001b[0;34m\u001b[0m\u001b[0;34m\u001b[0m\u001b[0;34m\u001b[0m\u001b[0m\n\u001b[0;32m--> 892\u001b[0;31m                 \u001b[0;32mraise\u001b[0m \u001b[0mKeyboardInterrupt\u001b[0m\u001b[0;34m(\u001b[0m\u001b[0;34m\"Interrupted by user\"\u001b[0m\u001b[0;34m)\u001b[0m \u001b[0;32mfrom\u001b[0m \u001b[0;32mNone\u001b[0m\u001b[0;34m\u001b[0m\u001b[0;34m\u001b[0m\u001b[0m\n\u001b[0m\u001b[1;32m    893\u001b[0m             \u001b[0;32mexcept\u001b[0m \u001b[0mException\u001b[0m \u001b[0;32mas\u001b[0m \u001b[0me\u001b[0m\u001b[0;34m:\u001b[0m\u001b[0;34m\u001b[0m\u001b[0;34m\u001b[0m\u001b[0m\n\u001b[1;32m    894\u001b[0m                 \u001b[0mself\u001b[0m\u001b[0;34m.\u001b[0m\u001b[0mlog\u001b[0m\u001b[0;34m.\u001b[0m\u001b[0mwarning\u001b[0m\u001b[0;34m(\u001b[0m\u001b[0;34m\"Invalid Message:\"\u001b[0m\u001b[0;34m,\u001b[0m \u001b[0mexc_info\u001b[0m\u001b[0;34m=\u001b[0m\u001b[0;32mTrue\u001b[0m\u001b[0;34m)\u001b[0m\u001b[0;34m\u001b[0m\u001b[0;34m\u001b[0m\u001b[0m\n",
      "\u001b[0;31mKeyboardInterrupt\u001b[0m: Interrupted by user"
     ]
    }
   ],
   "source": [
    "while should_continue:\n",
    "    print(f\"Your cards : {[i for i in user_card]}\")\n",
    "    print(f\"Your cards : {[i for i in computer_card]}\")\n",
    "    user_total = cal(user_card)\n",
    "    computer_total = cal(computer_card)\n",
    "    decision = input(\"Hits or Stand: \")\n",
    "    if decision.lower() == \"hits\":\n",
    "        card.append(next(it)) \n",
    "        total = cal(card)\n",
    "        if total > 21:\n",
    "            print(\"Lose\")\n",
    "            break"
   ]
  },
  {
   "cell_type": "code",
   "execution_count": 209,
   "id": "dense-voluntary",
   "metadata": {},
   "outputs": [],
   "source": [
    "import random"
   ]
  },
  {
   "cell_type": "code",
   "execution_count": 248,
   "id": "neural-folks",
   "metadata": {},
   "outputs": [],
   "source": [
    "def deal_card():\n",
    "    \"\"\"Returns a random card from the deck.\"\"\"\n",
    "    cards = [11, 2, 3, 4, 5, 6, 7, 8, 9, 10, 10, 10, 10]\n",
    "    card = random.choice(cards)\n",
    "    return card"
   ]
  },
  {
   "cell_type": "code",
   "execution_count": 242,
   "id": "norwegian-carol",
   "metadata": {},
   "outputs": [],
   "source": [
    "def compare(user_score, computer_score):\n",
    "    if user_score == computer_score:\n",
    "        return \"Draw\"\n",
    "    elif computer_score == 0:\n",
    "        return \"Lose, opponent has Blackjack\"\n",
    "    elif user_score == 0:\n",
    "        return \"Win with a Blackjack\"\n",
    "    elif user_score > 21:\n",
    "        return \"You went over. You lose\"\n",
    "    elif computer_score > 21:\n",
    "        return \"Opponent went over. You win\"\n",
    "    elif user_score > computer_score:\n",
    "        return \"You Win\"\n",
    "    else:\n",
    "        return \"You lose\""
   ]
  },
  {
   "cell_type": "code",
   "execution_count": 240,
   "id": "vocational-estate",
   "metadata": {},
   "outputs": [],
   "source": [
    "def calculate_score(cards):\n",
    "    \"\"\"Take a list of cards and return the score calculated from the cards.\"\"\"\n",
    "    if sum(cards) == 21 and len(cards) == 2:\n",
    "        return 0\n",
    "    if 11 in cards and sum(cards) > 21:\n",
    "        cards.remove(11)\n",
    "        cards.append(1)\n",
    "    return sum(cards)"
   ]
  },
  {
   "cell_type": "code",
   "execution_count": 256,
   "id": "familiar-football",
   "metadata": {},
   "outputs": [
    {
     "name": "stdout",
     "output_type": "stream",
     "text": [
      "Do you want to play a game of Blackjack? Type 'y' or 'n': y\n",
      "Your cards: [9, 6], current score: 15\n",
      "Computer's first card: 10\n",
      "Type 'y' to get another card, type 'n' to pass: y\n",
      "Your cards: [9, 6, 1], current score: 16\n",
      "Computer's first card: 10\n",
      "Type 'y' to get another card, type 'n' to pass: y\n",
      "Your cards: [9, 6, 1, 3], current score: 19\n",
      "Computer's first card: 10\n",
      "Type 'y' to get another card, type 'n' to pass: n\n",
      "Your final hand : [9, 6, 1, 3], final score: 19\n",
      "Computer's final hand : [10, 10], final score: 20\n",
      "You lose\n",
      "Do you want to play a game of Blackjack? Type 'y' or 'n': n\n"
     ]
    }
   ],
   "source": [
    "def play_game():\n",
    "    user_cards = []\n",
    "    computer_cards = []\n",
    "    for _ in range(2):\n",
    "        user_cards.append(deal_card())\n",
    "        computer_cards.append(deal_card())\n",
    "    is_game_over = False\n",
    "    while not is_game_over:\n",
    "        user_score = calculate_score(user_cards)\n",
    "        computer_score = calculate_score(computer_cards)\n",
    "\n",
    "        print(f\"Your cards: {user_cards}, current score: {user_score}\")\n",
    "        print(f\"Computer's first card: {computer_cards[0]}\")\n",
    "\n",
    "        if user_score == 0 or computer_score == 0 or user_score > 21:\n",
    "            is_game_over = True\n",
    "        else:\n",
    "            user_should_deal = input(\"Type 'y' to get another card, type 'n' to pass: \")\n",
    "            if user_should_deal.lower() == \"y\":\n",
    "                user_cards.append(deal_card())\n",
    "            else:\n",
    "                is_game_over = True\n",
    "    while computer_score != 0 and computer_score < 17:\n",
    "        computer_cards.append(deal_card())\n",
    "        computer_score = calculate_score(computer_cards)\n",
    "\n",
    "    print(f\"Your final hand : {user_cards}, final score: {user_score}\")\n",
    "    print(f\"Computer's final hand : {computer_cards}, final score: {computer_score}\")\n",
    "    print(compare(user_score, computer_score))\n",
    "\n",
    "while input(\"Do you want to play a game of Blackjack? Type 'y' or 'n': \") == 'y':\n",
    "    play_game()"
   ]
  },
  {
   "cell_type": "code",
   "execution_count": 267,
   "id": "divine-glossary",
   "metadata": {},
   "outputs": [],
   "source": [
    "class Card():\n",
    "    def __init__(self, value, suit):\n",
    "        self.value=value\n",
    "        self.suit=suit\n",
    "\n",
    "    def __repr__(self):\n",
    "        suits = {\"h\":\"♡\", \"s\":\"♠\", \"d\":\"♢\", \"c\":\"♣\"}\n",
    "        values = {**{i:str(i) for i in range(2,10)}, \n",
    "        **{10:'T', 11:'J',12:'Q', 13:'K', 14:'A'}}\n",
    "        return values[self.value] + suits[self.suit]"
   ]
  },
  {
   "cell_type": "code",
   "execution_count": 271,
   "id": "brief-works",
   "metadata": {},
   "outputs": [
    {
     "name": "stdout",
     "output_type": "stream",
     "text": [
      "標準撲克牌: 2♡ 2♠ 2♢ 2♣ 3♡ 3♠ 3♢ 3♣ 4♡ 4♠ 4♢ 4♣ 5♡ 5♠ 5♢ 5♣ 6♡ 6♠ 6♢ 6♣ 7♡ 7♠ 7♢ 7♣ 8♡ 8♠ 8♢ 8♣ 9♡ 9♠ 9♢ 9♣ T♡ T♠ T♢ T♣ J♡ J♠ J♢ J♣ Q♡ Q♠ Q♢ Q♣ K♡ K♠ K♢ K♣ A♡ A♠ A♢ A♣\n"
     ]
    }
   ],
   "source": [
    "import random\n",
    "\n",
    "class Card():\n",
    "    def __init__(self, value, suit):\n",
    "        self.value=value\n",
    "        self.suit=suit\n",
    "\n",
    "    def __repr__(self):\n",
    "        suits = {\"h\":\"♡\", \"s\":\"♠\", \"d\":\"♢\", \"c\":\"♣\"}\n",
    "        values = {**{i:str(i) for i in range(2,10)}, \n",
    "        **{10:'T', 11:'J',12:'Q', 13:'K', 14:'A'}}\n",
    "        return values[self.value] + suits[self.suit]\n",
    "\n",
    "    \n",
    "class StardardDeck():\n",
    "    def __init__(self):\n",
    "        self.cards = [Card(value, suit) for value in range(2,15) for suit in 'hsdc']\n",
    "                \n",
    "    def __repr__(self):\n",
    "        return ' '.join([card.__repr__() for card in self.cards])\n",
    "\n",
    "    def shuffule(self):\n",
    "        random.shuffle(self.cards)\n",
    "        \n",
    "    def draw(self):\n",
    "        return self.cards.pop(0)\n",
    "    \n",
    "if __name__=='__main__':\n",
    "    deck = StardardDeck()\n",
    "    print(\"標準撲克牌:\", deck)\n",
    "    deck.shuffule()\n",
    "#     print(\"把牌堆洗亂\")\n",
    "    randomCard = deck.draw()\n",
    "#     print(\"抽出最上方的牌:\", randomCard)\n",
    "#     print(\"剩下的牌為:\" ,deck)\n"
   ]
  },
  {
   "cell_type": "code",
   "execution_count": 295,
   "id": "bronze-charles",
   "metadata": {},
   "outputs": [],
   "source": [
    "class Card:\n",
    "    def __init__(self, value, suit):\n",
    "        self.value=value\n",
    "        self.suit=suit\n",
    "\n",
    "    def __repr__(self):\n",
    "        suits = {\"h\":\"♡\", \"s\":\"♠\", \"d\":\"♢\", \"c\":\"♣\"}\n",
    "        values = {**{i:str(i) for i in range(2,10)}, \n",
    "        **{10:'T', 11:'J',12:'Q', 13:'K', 14:'A'}}\n",
    "        return values[self.value] + suits[self.suit]"
   ]
  },
  {
   "cell_type": "code",
   "execution_count": 296,
   "id": "capable-region",
   "metadata": {},
   "outputs": [
    {
     "data": {
      "text/plain": [
       "\"<class '__main__.Card'>\""
      ]
     },
     "execution_count": 296,
     "metadata": {},
     "output_type": "execute_result"
    }
   ],
   "source": [
    "repr(Card)"
   ]
  },
  {
   "cell_type": "code",
   "execution_count": 293,
   "id": "changed-transcript",
   "metadata": {},
   "outputs": [
    {
     "data": {
      "text/plain": [
       "{'2Fuck': 2,\n",
       " '3Fuck': 3,\n",
       " '4Fuck': 4,\n",
       " '5Fuck': 5,\n",
       " '6Fuck': 6,\n",
       " '7Fuck': 7,\n",
       " '8Fuck': 8,\n",
       " '9Fuck': 9,\n",
       " '10Fuck': 10}"
      ]
     },
     "execution_count": 293,
     "metadata": {},
     "output_type": "execute_result"
    }
   ],
   "source": [
    "a"
   ]
  },
  {
   "cell_type": "code",
   "execution_count": null,
   "id": "favorite-password",
   "metadata": {},
   "outputs": [],
   "source": []
  }
 ],
 "metadata": {
  "kernelspec": {
   "display_name": "Python 3",
   "language": "python",
   "name": "python3"
  },
  "language_info": {
   "codemirror_mode": {
    "name": "ipython",
    "version": 3
   },
   "file_extension": ".py",
   "mimetype": "text/x-python",
   "name": "python",
   "nbconvert_exporter": "python",
   "pygments_lexer": "ipython3",
   "version": "3.8.8"
  }
 },
 "nbformat": 4,
 "nbformat_minor": 5
}
