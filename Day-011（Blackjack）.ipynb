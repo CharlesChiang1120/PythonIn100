{
 "cells": [
  {
   "cell_type": "code",
   "execution_count": 209,
   "id": "ongoing-sharp",
   "metadata": {},
   "outputs": [],
   "source": [
    "import random"
   ]
  },
  {
   "cell_type": "code",
   "execution_count": 248,
   "id": "about-impression",
   "metadata": {},
   "outputs": [],
   "source": [
    "def deal_card():\n",
    "    \"\"\"Returns a random card from the deck.\"\"\"\n",
    "    cards = [11, 2, 3, 4, 5, 6, 7, 8, 9, 10, 10, 10, 10]\n",
    "    card = random.choice(cards)\n",
    "    return card"
   ]
  },
  {
   "cell_type": "code",
   "execution_count": 242,
   "id": "incorrect-little",
   "metadata": {},
   "outputs": [],
   "source": [
    "def compare(user_score, computer_score):\n",
    "    if user_score == computer_score:\n",
    "        return \"Draw\"\n",
    "    elif computer_score == 0:\n",
    "        return \"Lose, opponent has Blackjack\"\n",
    "    elif user_score == 0:\n",
    "        return \"Win with a Blackjack\"\n",
    "    elif user_score > 21:\n",
    "        return \"You went over. You lose\"\n",
    "    elif computer_score > 21:\n",
    "        return \"Opponent went over. You win\"\n",
    "    elif user_score > computer_score:\n",
    "        return \"You Win\"\n",
    "    else:\n",
    "        return \"You lose\""
   ]
  },
  {
   "cell_type": "code",
   "execution_count": 240,
   "id": "hourly-illustration",
   "metadata": {},
   "outputs": [],
   "source": [
    "def calculate_score(cards):\n",
    "    \"\"\"Take a list of cards and return the score calculated from the cards.\"\"\"\n",
    "    if sum(cards) == 21 and len(cards) == 2:\n",
    "        return 0\n",
    "    if 11 in cards and sum(cards) > 21:\n",
    "        cards.remove(11)\n",
    "        cards.append(1)\n",
    "    return sum(cards)"
   ]
  },
  {
   "cell_type": "code",
   "execution_count": 256,
   "id": "local-nicaragua",
   "metadata": {},
   "outputs": [
    {
     "name": "stdout",
     "output_type": "stream",
     "text": [
      "Do you want to play a game of Blackjack? Type 'y' or 'n': y\n",
      "Your cards: [9, 6], current score: 15\n",
      "Computer's first card: 10\n",
      "Type 'y' to get another card, type 'n' to pass: y\n",
      "Your cards: [9, 6, 1], current score: 16\n",
      "Computer's first card: 10\n",
      "Type 'y' to get another card, type 'n' to pass: y\n",
      "Your cards: [9, 6, 1, 3], current score: 19\n",
      "Computer's first card: 10\n",
      "Type 'y' to get another card, type 'n' to pass: n\n",
      "Your final hand : [9, 6, 1, 3], final score: 19\n",
      "Computer's final hand : [10, 10], final score: 20\n",
      "You lose\n",
      "Do you want to play a game of Blackjack? Type 'y' or 'n': n\n"
     ]
    }
   ],
   "source": [
    "def play_game():\n",
    "    user_cards = []\n",
    "    computer_cards = []\n",
    "    for _ in range(2):\n",
    "        user_cards.append(deal_card())\n",
    "        computer_cards.append(deal_card())\n",
    "    is_game_over = False\n",
    "    while not is_game_over:\n",
    "        user_score = calculate_score(user_cards)\n",
    "        computer_score = calculate_score(computer_cards)\n",
    "\n",
    "        print(f\"Your cards: {user_cards}, current score: {user_score}\")\n",
    "        print(f\"Computer's first card: {computer_cards[0]}\")\n",
    "\n",
    "        if user_score == 0 or computer_score == 0 or user_score > 21:\n",
    "            is_game_over = True\n",
    "        else:\n",
    "            user_should_deal = input(\"Type 'y' to get another card, type 'n' to pass: \")\n",
    "            if user_should_deal.lower() == \"y\":\n",
    "                user_cards.append(deal_card())\n",
    "            else:\n",
    "                is_game_over = True\n",
    "    while computer_score != 0 and computer_score < 17:\n",
    "        computer_cards.append(deal_card())\n",
    "        computer_score = calculate_score(computer_cards)\n",
    "\n",
    "    print(f\"Your final hand : {user_cards}, final score: {user_score}\")\n",
    "    print(f\"Computer's final hand : {computer_cards}, final score: {computer_score}\")\n",
    "    print(compare(user_score, computer_score))\n",
    "\n",
    "while input(\"Do you want to play a game of Blackjack? Type 'y' or 'n': \") == 'y':\n",
    "    play_game()"
   ]
  }
 ],
 "metadata": {
  "kernelspec": {
   "display_name": "Python 3",
   "language": "python",
   "name": "python3"
  },
  "language_info": {
   "codemirror_mode": {
    "name": "ipython",
    "version": 3
   },
   "file_extension": ".py",
   "mimetype": "text/x-python",
   "name": "python",
   "nbconvert_exporter": "python",
   "pygments_lexer": "ipython3",
   "version": "3.8.8"
  }
 },
 "nbformat": 4,
 "nbformat_minor": 5
}
