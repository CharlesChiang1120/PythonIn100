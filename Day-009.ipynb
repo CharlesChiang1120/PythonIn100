{
 "cells": [
  {
   "cell_type": "markdown",
   "id": "miniature-obligation",
   "metadata": {},
   "source": [
    "## Grading Program"
   ]
  },
  {
   "cell_type": "code",
   "execution_count": 20,
   "id": "daily-activity",
   "metadata": {},
   "outputs": [],
   "source": [
    "student_scores = {\n",
    "  \"Harry\": 81,\n",
    "  \"Ron\": 78,\n",
    "  \"Hermione\": 99, \n",
    "  \"Draco\": 74,\n",
    "  \"Neville\": 62,\n",
    "}"
   ]
  },
  {
   "cell_type": "code",
   "execution_count": 21,
   "id": "broad-excellence",
   "metadata": {},
   "outputs": [],
   "source": [
    "for key in student_scores:\n",
    "    if student_scores[key] >= 91:\n",
    "        student_scores[key] = 'Outstanding'\n",
    "    elif student_scores[key] >= 81 and student_scores[key] <= 90:\n",
    "        student_scores[key] = 'Exceeds Expectations'\n",
    "    elif student_scores[key] >= 71 and student_scores[key] <= 80:\n",
    "        student_scores[key] = 'Acceptable'\n",
    "    else:\n",
    "        student_scores[key] = 'Fail'"
   ]
  },
  {
   "cell_type": "code",
   "execution_count": 22,
   "id": "twenty-consideration",
   "metadata": {},
   "outputs": [
    {
     "data": {
      "text/plain": [
       "{'Harry': 'Exceeds Expectations',\n",
       " 'Ron': 'Acceptable',\n",
       " 'Hermione': 'Outstanding',\n",
       " 'Draco': 'Acceptable',\n",
       " 'Neville': 'Fail'}"
      ]
     },
     "execution_count": 22,
     "metadata": {},
     "output_type": "execute_result"
    }
   ],
   "source": [
    "student_scores"
   ]
  },
  {
   "cell_type": "markdown",
   "id": "retired-notebook",
   "metadata": {},
   "source": [
    "## Nesting"
   ]
  },
  {
   "cell_type": "code",
   "execution_count": 10,
   "id": "treated-messenger",
   "metadata": {},
   "outputs": [],
   "source": [
    "capitals = {\n",
    "  \"France\": \"Paris\",\n",
    "  \"Germany\": \"Berlin\",\n",
    "}\n",
    "\n",
    "#Nesting a List in a Dictionary\n",
    "\n",
    "travel_log = {\n",
    "  \"France\": [\"Paris\", \"Lille\", \"Dijon\"],\n",
    "  \"Germany\": [\"Berlin\", \"Hamburg\", \"Stuttgart\"],\n",
    "}\n",
    "\n",
    "#Nesting Dictionary in a Dictionary\n",
    "\n",
    "travel_log = {\n",
    "  \"France\": {\"cities_visited\": [\"Paris\", \"Lille\", \"Dijon\"], \"total_visits\": 12},\n",
    "  \"Germany\": {\"cities_visited\": [\"Berlin\", \"Hamburg\", \"Stuttgart\"], \"total_visits\": 5},\n",
    "}"
   ]
  },
  {
   "cell_type": "markdown",
   "id": "large-pressing",
   "metadata": {},
   "source": [
    "## Bid"
   ]
  },
  {
   "cell_type": "code",
   "execution_count": 57,
   "id": "understanding-canadian",
   "metadata": {},
   "outputs": [
    {
     "name": "stdout",
     "output_type": "stream",
     "text": [
      "\n",
      "                         ___________\n",
      "                         \\         /\n",
      "                          )_______(\n",
      "                          |\"\"\"\"\"\"\"|_.-._,.---------.,_.-._\n",
      "                          |       | | |               | | ''-.\n",
      "                          |       |_| |_             _| |_..-'\n",
      "                          |_______| '-' `'---------'` '-'\n",
      "                          )\"\"\"\"\"\"\"(\n",
      "                         /_________\\\n",
      "                       .-------------.\n",
      "                      /_______________\\\n",
      "\n",
      "\n",
      "Welcome to the secret aution program.\n",
      "\n",
      "What is your name?\n",
      "Charles\n",
      "What is your bid? $\n",
      "1000000000000\n",
      "Are there any other bidders? Type 'Yes' or 'No'.\n",
      "Yes\n",
      "What is your name?\n",
      "Iverson\n",
      "What is your bid? $\n",
      "90384234\n",
      "Are there any other bidders? Type 'Yes' or 'No'.\n",
      "Yes\n",
      "What is your name?\n",
      "Lebron\n",
      "What is your bid? $\n",
      "10\n",
      "Are there any other bidders? Type 'Yes' or 'No'.\n",
      "NO\n",
      "The winner is Charles with a bid of $1000000000000\n"
     ]
    }
   ],
   "source": [
    "response = True\n",
    "\n",
    "logo = '''\n",
    "                         ___________\n",
    "                         \\         /\n",
    "                          )_______(\n",
    "                          |\"\"\"\"\"\"\"|_.-._,.---------.,_.-._\n",
    "                          |       | | |               | | ''-.\n",
    "                          |       |_| |_             _| |_..-'\n",
    "                          |_______| '-' `'---------'` '-'\n",
    "                          )\"\"\"\"\"\"\"(\n",
    "                         /_________\\\\\n",
    "                       .-------------.\n",
    "                      /_______________\\\\\n",
    "'''\n",
    "print(logo + '\\n')\n",
    "\n",
    "print(\"Welcome to the secret aution program.\\n\")\n",
    "auction = {}\n",
    "while response == True:\n",
    "    name = input(\"What is your name?\\n\")\n",
    "    bid = int(input(\"What is your bid? $\\n\"))\n",
    "    auction[name] = bid\n",
    "    answer = input(\"Are there any other bidders? Type 'Yes' or 'No'.\\n\")\n",
    "    if answer.lower() == 'yes':\n",
    "        response = True\n",
    "    else:\n",
    "        response = False\n",
    "        winner = max(auction, key = auction.get)\n",
    "        winner_bid = max(auction.values())\n",
    "        print(f\"The winner is {winner} with a bid of ${winner_bid}\")"
   ]
  }
 ],
 "metadata": {
  "kernelspec": {
   "display_name": "Python 3",
   "language": "python",
   "name": "python3"
  },
  "language_info": {
   "codemirror_mode": {
    "name": "ipython",
    "version": 3
   },
   "file_extension": ".py",
   "mimetype": "text/x-python",
   "name": "python",
   "nbconvert_exporter": "python",
   "pygments_lexer": "ipython3",
   "version": "3.8.8"
  }
 },
 "nbformat": 4,
 "nbformat_minor": 5
}
