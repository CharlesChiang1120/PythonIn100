{
 "cells": [
  {
   "cell_type": "code",
   "execution_count": 20,
   "id": "distributed-concentration",
   "metadata": {},
   "outputs": [],
   "source": [
    "def format_name(f_name, l_name):\n",
    "    return f\"{l_name.title()} {f_name.title()}\""
   ]
  },
  {
   "cell_type": "code",
   "execution_count": 31,
   "id": "accomplished-chicken",
   "metadata": {},
   "outputs": [
    {
     "name": "stdout",
     "output_type": "stream",
     "text": [
      "Enter a year: 2020\n",
      "Enter a month: 2\n",
      "29\n"
     ]
    }
   ],
   "source": [
    "def is_leap(year):\n",
    "    if year % 4 == 0:\n",
    "        if year % 100 == 0:\n",
    "            if year % 400 == 0:\n",
    "                return True\n",
    "            else:\n",
    "                return False\n",
    "        else:\n",
    "            return True\n",
    "    else:\n",
    "        return False\n",
    "\n",
    "def days_in_month(year:int, month:int):\n",
    "    month_days = [31, 28, 31, 30, 31, 30, 31, 31, 30, 31, 30, 31] \n",
    "    if is_leap(year) and month == 2:\n",
    "        return 29\n",
    "    return month_days[month-1]\n",
    "  \n",
    "year = int(input(\"Enter a year: \"))\n",
    "month = int(input(\"Enter a month: \"))\n",
    "days = days_in_month(year, month)\n",
    "print(days)\n"
   ]
  },
  {
   "cell_type": "markdown",
   "id": "endangered-istanbul",
   "metadata": {},
   "source": [
    "## Calculator"
   ]
  },
  {
   "cell_type": "code",
   "execution_count": 57,
   "id": "spiritual-bosnia",
   "metadata": {},
   "outputs": [
    {
     "name": "stdout",
     "output_type": "stream",
     "text": [
      "What's the first number?: 10000\n",
      " +\n",
      " -\n",
      " *\n",
      " /\n",
      "Pick on operation: /\n",
      "What's the next number?: 0\n",
      "Denominator can't be zero\n",
      "Type 'y' to continue calculating with 10000.0, or type 'n' to start a new calculation:y\n",
      " +\n",
      " -\n",
      " *\n",
      " /\n",
      "Pick on operation: +\n",
      "What's the next number?: 60\n",
      "Type 'y' to continue calculating with 10060.0, or type 'n' to start a new calculation:y\n",
      " +\n",
      " -\n",
      " *\n",
      " /\n",
      "Pick on operation: *\n",
      "What's the next number?: 40\n",
      "Type 'y' to continue calculating with 402400.0, or type 'n' to start a new calculation:n\n"
     ]
    }
   ],
   "source": [
    "logo = \"\"\"\n",
    " _____________________\n",
    "|  _________________  |\n",
    "| | Pythonista   0. | |  .----------------.  .----------------.  .----------------.  .----------------. \n",
    "| |_________________| | | .--------------. || .--------------. || .--------------. || .--------------. |\n",
    "|  ___ ___ ___   ___  | | |     ______   | || |      __      | || |   _____      | || |     ______   | |\n",
    "| | 7 | 8 | 9 | | + | | | |   .' ___  |  | || |     /  \\     | || |  |_   _|     | || |   .' ___  |  | |\n",
    "| |___|___|___| |___| | | |  / .'   \\_|  | || |    / /\\ \\    | || |    | |       | || |  / .'   \\_|  | |\n",
    "| | 4 | 5 | 6 | | - | | | |  | |         | || |   / ____ \\   | || |    | |   _   | || |  | |         | |\n",
    "| |___|___|___| |___| | | |  \\ `.___.'\\  | || | _/ /    \\ \\_ | || |   _| |__/ |  | || |  \\ `.___.'\\  | |\n",
    "| | 1 | 2 | 3 | | x | | | |   `._____.'  | || ||____|  |____|| || |  |________|  | || |   `._____.'  | |\n",
    "| |___|___|___| |___| | | |              | || |              | || |              | || |              | |\n",
    "| | . | 0 | = | | / | | | '--------------' || '--------------' || '--------------' || '--------------' |\n",
    "| |___|___|___| |___| |  '----------------'  '----------------'  '----------------'  '----------------' \n",
    "|_____________________|\n",
    "\"\"\"\n",
    "\n",
    "def calculator(origin_number, operation, cal_number):\n",
    "    if operation == \"+\":\n",
    "        return origin_number + cal_number\n",
    "    elif operation == \"-\":\n",
    "        return origin_number - cal_number\n",
    "    elif operation == \"*\":\n",
    "        return origin_number * cal_number\n",
    "    elif operation == \"/\":\n",
    "        try:\n",
    "            return origin_number / cal_number\n",
    "        except ZeroDivisionError:\n",
    "            print(\"Denominator can't be zero\")\n",
    "            return origin_number\n",
    "origin_number = float(input(\"What's the first number?: \"))\n",
    "continue_cal = True\n",
    "\n",
    "while continue_cal:\n",
    "    operation = input(\" +\\n -\\n *\\n /\\nPick on operation: \")\n",
    "    cal_number = float(input(\"What's the next number?: \"))\n",
    "    answer = calculator(origin_number, operation, cal_number)\n",
    "    \n",
    "    if input(f\"Type 'y' to continue calculating with {answer}, or type 'n' to start a new calculation:\").lower() == 'y':\n",
    "        continue_cal = True\n",
    "        origin_number = answer\n",
    "    else:\n",
    "        continue_cal = False"
   ]
  }
 ],
 "metadata": {
  "kernelspec": {
   "display_name": "Python 3",
   "language": "python",
   "name": "python3"
  },
  "language_info": {
   "codemirror_mode": {
    "name": "ipython",
    "version": 3
   },
   "file_extension": ".py",
   "mimetype": "text/x-python",
   "name": "python",
   "nbconvert_exporter": "python",
   "pygments_lexer": "ipython3",
   "version": "3.8.8"
  }
 },
 "nbformat": 4,
 "nbformat_minor": 5
}
