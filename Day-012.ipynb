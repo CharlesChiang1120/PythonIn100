{
 "cells": [
  {
   "cell_type": "code",
   "execution_count": 50,
   "id": "aerial-pharmacy",
   "metadata": {},
   "outputs": [],
   "source": [
    "PI = 3.14159265358979323246\n",
    "URL = \"https://google.com\""
   ]
  },
  {
   "cell_type": "code",
   "execution_count": 43,
   "id": "uniform-moses",
   "metadata": {},
   "outputs": [],
   "source": [
    "c = 100"
   ]
  },
  {
   "cell_type": "code",
   "execution_count": 1,
   "id": "funky-newman",
   "metadata": {},
   "outputs": [],
   "source": [
    "b = 10"
   ]
  },
  {
   "cell_type": "code",
   "execution_count": 13,
   "id": "blank-estonia",
   "metadata": {},
   "outputs": [],
   "source": [
    "def test():\n",
    "    global b\n",
    "    b +=10\n",
    "    return b"
   ]
  },
  {
   "cell_type": "code",
   "execution_count": 40,
   "id": "hungry-bobby",
   "metadata": {},
   "outputs": [],
   "source": [
    "def aaa():\n",
    "    return c + 11"
   ]
  },
  {
   "cell_type": "code",
   "execution_count": 47,
   "id": "timely-yahoo",
   "metadata": {},
   "outputs": [],
   "source": [
    "c += aaa()"
   ]
  },
  {
   "cell_type": "markdown",
   "id": "nutritional-universal",
   "metadata": {},
   "source": [
    "## Game"
   ]
  },
  {
   "cell_type": "code",
   "execution_count": 75,
   "id": "appointed-tower",
   "metadata": {
    "scrolled": true
   },
   "outputs": [
    {
     "name": "stdout",
     "output_type": "stream",
     "text": [
      "Choose a difficulty. Type 'easy' or 'hard': easy\n",
      "You have 10 attempts emaining to guess the number.\n",
      "Make a guess: 100000\n",
      "Too high!\n",
      "You have 9 attempts emaining to guess the number.\n",
      "Make a guess: 90000\n",
      "Too high!\n",
      "You have 8 attempts emaining to guess the number.\n",
      "Make a guess: 0\n",
      "Too low!\n",
      "You have 7 attempts emaining to guess the number.\n",
      "Make a guess: 0\n",
      "Too low!\n",
      "You have 6 attempts emaining to guess the number.\n",
      "Make a guess: 0\n",
      "Too low!\n",
      "You have 5 attempts emaining to guess the number.\n",
      "Make a guess: 0\n",
      "Too low!\n",
      "You have 4 attempts emaining to guess the number.\n",
      "Make a guess: 0\n",
      "Too low!\n",
      "You have 3 attempts emaining to guess the number.\n",
      "Make a guess: 0\n",
      "Too low!\n",
      "You have 2 attempts emaining to guess the number.\n",
      "Make a guess: 0\n",
      "Too low!\n",
      "You have 1 attempts emaining to guess the number.\n",
      "Make a guess: 0\n",
      "Too low!\n"
     ]
    }
   ],
   "source": [
    "import random\n",
    "\n",
    "number = random.randint(1, 100)\n",
    "difficulty = input(\"Choose a difficulty. Type 'easy' or 'hard': \")\n",
    "\n",
    "def game(quantity, number):\n",
    "    while quantity != 0:\n",
    "        print(f\"You have {quantity} attempts emaining to guess the number.\")\n",
    "        guess_number = int(input(\"Make a guess: \"))\n",
    "        if guess_number < number:\n",
    "            print(\"Too low!\")\n",
    "        elif guess_number > number:\n",
    "            print(\"Too high!\")\n",
    "        else:\n",
    "            print(\"Bingo\")\n",
    "            quantity = 0\n",
    "            break\n",
    "        quantity -= 1\n",
    "        \n",
    "        \n",
    "\n",
    "if difficulty.lower() == \"easy\":\n",
    "    test_quantity = 10\n",
    "elif difficulty.lower() == \"hard\":\n",
    "    test_quantity = 5\n",
    "    \n",
    "game(test_quantity, number)\n",
    "\n"
   ]
  },
  {
   "cell_type": "markdown",
   "id": "gothic-ethnic",
   "metadata": {},
   "source": [
    "## Course"
   ]
  },
  {
   "cell_type": "code",
   "execution_count": 76,
   "id": "precious-judges",
   "metadata": {},
   "outputs": [],
   "source": [
    "from random import randint"
   ]
  },
  {
   "cell_type": "code",
   "execution_count": 101,
   "id": "lightweight-wrestling",
   "metadata": {},
   "outputs": [
    {
     "name": "stdout",
     "output_type": "stream",
     "text": [
      "Welcome to the guessing game.\n",
      "I'm thinking of a number betweem 1 and 100.\n",
      "Choose a difficulty. Type 'easy' or 'hard': easy\n",
      "You have 10 attempts emaining to guess the number.\n",
      "Make a guess: 50\n",
      "Too low!\n",
      "You have 9 attempts emaining to guess the number.\n",
      "Make a guess: 60\n",
      "Too high!\n",
      "You have 8 attempts emaining to guess the number.\n",
      "Make a guess: 55\n",
      "Too low!\n",
      "You have 7 attempts emaining to guess the number.\n",
      "Make a guess: 57\n",
      "Too low!\n",
      "You have 6 attempts emaining to guess the number.\n",
      "Make a guess: 59\n",
      "You got it! The answer is 59.\n"
     ]
    }
   ],
   "source": [
    "EASY_LEVEL_TURNS = 10\n",
    "HARD_LEVEL_TURNS = 5\n",
    "turns = 0\n",
    "\n",
    "def set_difficulty():\n",
    "    level = input(\"Choose a difficulty. Type 'easy' or 'hard': \")\n",
    "    if level == \"easy\":\n",
    "        return EASY_LEVEL_TURNS\n",
    "    else:\n",
    "        return HARD_LEVEL_TURNS\n",
    "    \n",
    "    \n",
    "def check_answer(guess, answer, turns):\n",
    "    \"\"\"Checks answer against guess. Returns the number of turns remaining.\"\"\"\n",
    "    if guess > answer:\n",
    "        print(\"Too high!\")\n",
    "        return turns - 1\n",
    "    elif guess < answer:\n",
    "        print(\"Too low!\")\n",
    "        return turns - 1\n",
    "    else:\n",
    "        print(f\"You got it! The answer is {answer}.\")\n",
    "\n",
    "\n",
    "def course_game():\n",
    "    \n",
    "    print(\"Welcome to the guessing game.\")\n",
    "    print(\"I'm thinking of a number betweem 1 and 100.\")\n",
    "    \n",
    "    answer = randint(1, 100)\n",
    "    turns = set_difficulty()\n",
    "    guess = 0\n",
    "    \n",
    "    while guess != answer:\n",
    "        \n",
    "        print(f\"You have {turns} attempts emaining to guess the number.\")\n",
    "        guess = int(input(\"Make a guess: \"))\n",
    "        turns = check_answer(guess, answer, turns)\n",
    "        \n",
    "        if turns == 0:\n",
    "            print(\"You run out of guessse, you lose.\")\n",
    "            return\n",
    "        \n",
    "course_game()"
   ]
  }
 ],
 "metadata": {
  "kernelspec": {
   "display_name": "Python 3",
   "language": "python",
   "name": "python3"
  },
  "language_info": {
   "codemirror_mode": {
    "name": "ipython",
    "version": 3
   },
   "file_extension": ".py",
   "mimetype": "text/x-python",
   "name": "python",
   "nbconvert_exporter": "python",
   "pygments_lexer": "ipython3",
   "version": "3.8.8"
  }
 },
 "nbformat": 4,
 "nbformat_minor": 5
}
